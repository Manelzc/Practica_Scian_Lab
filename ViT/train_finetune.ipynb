{
 "cells": [
  {
   "cell_type": "code",
   "execution_count": 1,
   "metadata": {},
   "outputs": [
    {
     "name": "stderr",
     "output_type": "stream",
     "text": [
      "/home/newt/miniconda3/envs/ds/lib/python3.10/site-packages/tqdm/auto.py:22: TqdmWarning: IProgress not found. Please update jupyter and ipywidgets. See https://ipywidgets.readthedocs.io/en/stable/user_install.html\n",
      "  from .autonotebook import tqdm as notebook_tqdm\n"
     ]
    }
   ],
   "source": [
    "import numpy as np\n",
    "%matplotlib inline\n",
    "\n",
    "import matplotlib.pyplot as plt\n",
    "from tqdm import tqdm, trange\n",
    "\n",
    "import torch\n",
    "import torch.nn as nn\n",
    "from torch.optim import Adam\n",
    "from torch.nn import CrossEntropyLoss\n",
    "from torch.utils.data import DataLoader\n",
    "\n",
    "from torchvision.transforms import ToTensor, Resize, Compose\n",
    "from torchvision import datasets\n",
    "from collections import Counter\n",
    "\n",
    "from her2_dataset import HER2Dataset\n",
    "from patch_embedding import PatchEmbedding\n",
    "\n",
    "transform = Compose([ToTensor(), Resize((224,224))])\n",
    "\n",
    "torch.manual_seed(0)\n",
    "\n",
    "IMAGE_WIDTH = 224\n",
    "IMAGE_HEIGHT = 224\n",
    "IMAGE_CHANNELS = 3\n",
    "N_PATCHES = 16\n",
    "\n",
    "MAX_CHECKPOINTS = 3\n",
    "\n",
    "assert IMAGE_WIDTH%N_PATCHES==0\n",
    "\n",
    "PATCH_WIDTH = IMAGE_WIDTH//N_PATCHES\n",
    "PATCH_HEIGHT = IMAGE_HEIGHT//N_PATCHES\n",
    "\n",
    "\n",
    "DATASET_PATH='../datasets/HER2_gastric_5classes'\n",
    "# 20% of data goes to test\n",
    "TEST_SPLIT = 0.2\n",
    "BATCH_SIZE = 16\n",
    "\n",
    "N_EPOCHS = 20\n",
    "LR = 0.0001\n"
   ]
  },
  {
   "cell_type": "code",
   "execution_count": 2,
   "metadata": {},
   "outputs": [
    {
     "name": "stdout",
     "output_type": "stream",
     "text": [
      "Dataset split:\n",
      "Train: 1627\n",
      "Test: 406\n"
     ]
    }
   ],
   "source": [
    "\n",
    "dataset = HER2Dataset(DATASET_PATH, transform=transform)\n",
    "train_dataset, test_dataset = dataset.genSplits(TEST_SPLIT)\n",
    "train_loader, test_loader = dataset.getDataLoaders(BATCH_SIZE)\n",
    "\n",
    "print(f\"Dataset split:\\nTrain: {len(train_dataset)}\\nTest: {len(test_dataset)}\")\n",
    "\n"
   ]
  },
  {
   "cell_type": "code",
   "execution_count": 3,
   "metadata": {},
   "outputs": [
    {
     "data": {
      "text/plain": [
       "Text(0.5, 1.0, 'Test Split')"
      ]
     },
     "execution_count": 3,
     "metadata": {},
     "output_type": "execute_result"
    },
    {
     "data": {
      "image/png": "[encoded data removed]",
      "text/plain": [
       "<Figure size 1000x400 with 2 Axes>"
      ]
     },
     "metadata": {},
     "output_type": "display_data"
    }
   ],
   "source": [
    "train_count, test_count = dataset.getSampleCountByClass()\n",
    "\n",
    "fig, ax = plt.subplots(1, 2, tight_layout=True, figsize=(10,4))\n",
    "fig.suptitle(\"Classes distribution\")\n",
    "ax[0].set_ylabel(\"Count\")\n",
    "ax[0].bar(list(zip(*train_count))[0], list(zip(*train_count))[1], tick_label=list(zip(*train_count))[2])\n",
    "ax[0].set_title(\"Train Split\")\n",
    "ax[1].bar(list(zip(*test_count))[0], list(zip(*test_count))[1], tick_label=list(zip(*test_count))[2])\n",
    "ax[1].set_title(\"Test Split\")"
   ]
  },
  {
   "cell_type": "code",
   "execution_count": 5,
   "metadata": {},
   "outputs": [
    {
     "ename": "IndexError",
     "evalue": "index 0 is out of bounds for axis 0 with size 0",
     "output_type": "error",
     "traceback": [
      "\u001b[0;31m---------------------------------------------------------------------------\u001b[0m",
      "\u001b[0;31mIndexError\u001b[0m                                Traceback (most recent call last)",
      "Cell \u001b[0;32mIn [5], line 3\u001b[0m\n\u001b[1;32m      1\u001b[0m data_iter \u001b[39m=\u001b[39m \u001b[39miter\u001b[39m(train_loader)\n\u001b[1;32m      2\u001b[0m images, labels \u001b[39m=\u001b[39m \u001b[39mnext\u001b[39m(data_iter)\n\u001b[0;32m----> 3\u001b[0m class_first_sample \u001b[39m=\u001b[39m \u001b[39mlist\u001b[39;49m(\u001b[39mmap\u001b[39;49m(\u001b[39mlambda\u001b[39;49;00m x: np\u001b[39m.\u001b[39;49mwhere(x \u001b[39m==\u001b[39;49m np\u001b[39m.\u001b[39;49marray(labels))[\u001b[39m0\u001b[39;49m][\u001b[39m0\u001b[39;49m], dataset\u001b[39m.\u001b[39;49mclass_to_idx\u001b[39m.\u001b[39;49mvalues()))\n\u001b[1;32m      6\u001b[0m \u001b[39mprint\u001b[39m(images\u001b[39m.\u001b[39mshape)\n\u001b[1;32m      8\u001b[0m fig, axes \u001b[39m=\u001b[39m plt\u001b[39m.\u001b[39msubplots(tight_layout\u001b[39m=\u001b[39m\u001b[39mTrue\u001b[39;00m, ncols\u001b[39m=\u001b[39m\u001b[39mlen\u001b[39m(class_first_sample))\n",
      "Cell \u001b[0;32mIn [5], line 3\u001b[0m, in \u001b[0;36m<lambda>\u001b[0;34m(x)\u001b[0m\n\u001b[1;32m      1\u001b[0m data_iter \u001b[39m=\u001b[39m \u001b[39miter\u001b[39m(train_loader)\n\u001b[1;32m      2\u001b[0m images, labels \u001b[39m=\u001b[39m \u001b[39mnext\u001b[39m(data_iter)\n\u001b[0;32m----> 3\u001b[0m class_first_sample \u001b[39m=\u001b[39m \u001b[39mlist\u001b[39m(\u001b[39mmap\u001b[39m(\u001b[39mlambda\u001b[39;00m x: np\u001b[39m.\u001b[39;49mwhere(x \u001b[39m==\u001b[39;49m np\u001b[39m.\u001b[39;49marray(labels))[\u001b[39m0\u001b[39;49m][\u001b[39m0\u001b[39;49m], dataset\u001b[39m.\u001b[39mclass_to_idx\u001b[39m.\u001b[39mvalues()))\n\u001b[1;32m      6\u001b[0m \u001b[39mprint\u001b[39m(images\u001b[39m.\u001b[39mshape)\n\u001b[1;32m      8\u001b[0m fig, axes \u001b[39m=\u001b[39m plt\u001b[39m.\u001b[39msubplots(tight_layout\u001b[39m=\u001b[39m\u001b[39mTrue\u001b[39;00m, ncols\u001b[39m=\u001b[39m\u001b[39mlen\u001b[39m(class_first_sample))\n",
      "\u001b[0;31mIndexError\u001b[0m: index 0 is out of bounds for axis 0 with size 0"
     ]
    }
   ],
   "source": [
    "\n",
    "data_iter = iter(train_loader)\n",
    "images, labels = next(data_iter)\n",
    "class_first_sample = list(map(lambda x: np.where(x == np.array(labels))[0][0], dataset.class_to_idx.values()))\n",
    "\n",
    "\n",
    "print(images.shape)\n",
    "\n",
    "fig, axes = plt.subplots(tight_layout=True, ncols=len(class_first_sample))\n",
    "fig.suptitle(\"First sample of the dataset by class\")\n",
    "\n",
    "for ii in range(len(class_first_sample)):\n",
    "    ax = axes[ii]\n",
    "#     helper.imshow(images[ii], ax=ax, normalize=False)\n",
    "    ax.set_title(dataset.classes[labels[class_first_sample[ii]]])\n",
    "    ax.imshow(torch.transpose(images[class_first_sample[ii]], 0, 2))"
   ]
  },
  {
   "cell_type": "code",
   "execution_count": 5,
   "metadata": {},
   "outputs": [
    {
     "ename": "KeyboardInterrupt",
     "evalue": "",
     "output_type": "error",
     "traceback": [
      "\u001b[0;31m---------------------------------------------------------------------------\u001b[0m",
      "\u001b[0;31mKeyboardInterrupt\u001b[0m                         Traceback (most recent call last)",
      "Cell \u001b[0;32mIn [5], line 15\u001b[0m\n\u001b[1;32m     13\u001b[0m axes[i,j]\u001b[39m.\u001b[39maxis(\u001b[39m'\u001b[39m\u001b[39moff\u001b[39m\u001b[39m'\u001b[39m)\n\u001b[1;32m     14\u001b[0m axes[i,j]\u001b[39m.\u001b[39mset_aspect(\u001b[39m'\u001b[39m\u001b[39mequal\u001b[39m\u001b[39m'\u001b[39m)\n\u001b[0;32m---> 15\u001b[0m axes[i,j]\u001b[39m.\u001b[39;49mimshow(patches[\u001b[39m0\u001b[39;49m, i, j], interpolation\u001b[39m=\u001b[39;49m\u001b[39mNone\u001b[39;49;00m)\n",
      "File \u001b[0;32m~/miniconda3/envs/ds/lib/python3.10/site-packages/matplotlib/_api/deprecation.py:459\u001b[0m, in \u001b[0;36mmake_keyword_only.<locals>.wrapper\u001b[0;34m(*args, **kwargs)\u001b[0m\n\u001b[1;32m    453\u001b[0m \u001b[39mif\u001b[39;00m \u001b[39mlen\u001b[39m(args) \u001b[39m>\u001b[39m name_idx:\n\u001b[1;32m    454\u001b[0m     warn_deprecated(\n\u001b[1;32m    455\u001b[0m         since, message\u001b[39m=\u001b[39m\u001b[39m\"\u001b[39m\u001b[39mPassing the \u001b[39m\u001b[39m%(name)s\u001b[39;00m\u001b[39m \u001b[39m\u001b[39m%(obj_type)s\u001b[39;00m\u001b[39m \u001b[39m\u001b[39m\"\u001b[39m\n\u001b[1;32m    456\u001b[0m         \u001b[39m\"\u001b[39m\u001b[39mpositionally is deprecated since Matplotlib \u001b[39m\u001b[39m%(since)s\u001b[39;00m\u001b[39m; the \u001b[39m\u001b[39m\"\u001b[39m\n\u001b[1;32m    457\u001b[0m         \u001b[39m\"\u001b[39m\u001b[39mparameter will become keyword-only \u001b[39m\u001b[39m%(removal)s\u001b[39;00m\u001b[39m.\u001b[39m\u001b[39m\"\u001b[39m,\n\u001b[1;32m    458\u001b[0m         name\u001b[39m=\u001b[39mname, obj_type\u001b[39m=\u001b[39m\u001b[39mf\u001b[39m\u001b[39m\"\u001b[39m\u001b[39mparameter of \u001b[39m\u001b[39m{\u001b[39;00mfunc\u001b[39m.\u001b[39m\u001b[39m__name__\u001b[39m\u001b[39m}\u001b[39;00m\u001b[39m()\u001b[39m\u001b[39m\"\u001b[39m)\n\u001b[0;32m--> 459\u001b[0m \u001b[39mreturn\u001b[39;00m func(\u001b[39m*\u001b[39;49margs, \u001b[39m*\u001b[39;49m\u001b[39m*\u001b[39;49mkwargs)\n",
      "File \u001b[0;32m~/miniconda3/envs/ds/lib/python3.10/site-packages/matplotlib/__init__.py:1412\u001b[0m, in \u001b[0;36m_preprocess_data.<locals>.inner\u001b[0;34m(ax, data, *args, **kwargs)\u001b[0m\n\u001b[1;32m   1409\u001b[0m \u001b[39m@functools\u001b[39m\u001b[39m.\u001b[39mwraps(func)\n\u001b[1;32m   1410\u001b[0m \u001b[39mdef\u001b[39;00m \u001b[39minner\u001b[39m(ax, \u001b[39m*\u001b[39margs, data\u001b[39m=\u001b[39m\u001b[39mNone\u001b[39;00m, \u001b[39m*\u001b[39m\u001b[39m*\u001b[39mkwargs):\n\u001b[1;32m   1411\u001b[0m     \u001b[39mif\u001b[39;00m data \u001b[39mis\u001b[39;00m \u001b[39mNone\u001b[39;00m:\n\u001b[0;32m-> 1412\u001b[0m         \u001b[39mreturn\u001b[39;00m func(ax, \u001b[39m*\u001b[39;49m\u001b[39mmap\u001b[39;49m(sanitize_sequence, args), \u001b[39m*\u001b[39;49m\u001b[39m*\u001b[39;49mkwargs)\n\u001b[1;32m   1414\u001b[0m     bound \u001b[39m=\u001b[39m new_sig\u001b[39m.\u001b[39mbind(ax, \u001b[39m*\u001b[39margs, \u001b[39m*\u001b[39m\u001b[39m*\u001b[39mkwargs)\n\u001b[1;32m   1415\u001b[0m     auto_label \u001b[39m=\u001b[39m (bound\u001b[39m.\u001b[39marguments\u001b[39m.\u001b[39mget(label_namer)\n\u001b[1;32m   1416\u001b[0m                   \u001b[39mor\u001b[39;00m bound\u001b[39m.\u001b[39mkwargs\u001b[39m.\u001b[39mget(label_namer))\n",
      "File \u001b[0;32m~/miniconda3/envs/ds/lib/python3.10/site-packages/matplotlib/axes/_axes.py:5491\u001b[0m, in \u001b[0;36mAxes.imshow\u001b[0;34m(self, X, cmap, norm, aspect, interpolation, alpha, vmin, vmax, origin, extent, interpolation_stage, filternorm, filterrad, resample, url, **kwargs)\u001b[0m\n\u001b[1;32m   5487\u001b[0m im\u001b[39m.\u001b[39mset_url(url)\n\u001b[1;32m   5489\u001b[0m \u001b[39m# update ax.dataLim, and, if autoscaling, set viewLim\u001b[39;00m\n\u001b[1;32m   5490\u001b[0m \u001b[39m# to tightly fit the image, regardless of dataLim.\u001b[39;00m\n\u001b[0;32m-> 5491\u001b[0m im\u001b[39m.\u001b[39;49mset_extent(im\u001b[39m.\u001b[39;49mget_extent())\n\u001b[1;32m   5493\u001b[0m \u001b[39mself\u001b[39m\u001b[39m.\u001b[39madd_image(im)\n\u001b[1;32m   5494\u001b[0m \u001b[39mreturn\u001b[39;00m im\n",
      "File \u001b[0;32m~/miniconda3/envs/ds/lib/python3.10/site-packages/matplotlib/image.py:986\u001b[0m, in \u001b[0;36mAxesImage.set_extent\u001b[0;34m(self, extent)\u001b[0m\n\u001b[1;32m    984\u001b[0m \u001b[39mself\u001b[39m\u001b[39m.\u001b[39msticky_edges\u001b[39m.\u001b[39my[:] \u001b[39m=\u001b[39m [ymin, ymax]\n\u001b[1;32m    985\u001b[0m \u001b[39mif\u001b[39;00m \u001b[39mself\u001b[39m\u001b[39m.\u001b[39maxes\u001b[39m.\u001b[39m_autoscaleXon:\n\u001b[0;32m--> 986\u001b[0m     \u001b[39mself\u001b[39;49m\u001b[39m.\u001b[39;49maxes\u001b[39m.\u001b[39;49mset_xlim((xmin, xmax), auto\u001b[39m=\u001b[39;49m\u001b[39mNone\u001b[39;49;00m)\n\u001b[1;32m    987\u001b[0m \u001b[39mif\u001b[39;00m \u001b[39mself\u001b[39m\u001b[39m.\u001b[39maxes\u001b[39m.\u001b[39m_autoscaleYon:\n\u001b[1;32m    988\u001b[0m     \u001b[39mself\u001b[39m\u001b[39m.\u001b[39maxes\u001b[39m.\u001b[39mset_ylim((ymin, ymax), auto\u001b[39m=\u001b[39m\u001b[39mNone\u001b[39;00m)\n",
      "File \u001b[0;32m~/miniconda3/envs/ds/lib/python3.10/site-packages/matplotlib/axes/_base.py:3747\u001b[0m, in \u001b[0;36m_AxesBase.set_xlim\u001b[0;34m(self, left, right, emit, auto, xmin, xmax)\u001b[0m\n\u001b[1;32m   3745\u001b[0m \u001b[39mfor\u001b[39;00m other \u001b[39min\u001b[39;00m \u001b[39mself\u001b[39m\u001b[39m.\u001b[39m_shared_axes[\u001b[39m\"\u001b[39m\u001b[39mx\u001b[39m\u001b[39m\"\u001b[39m]\u001b[39m.\u001b[39mget_siblings(\u001b[39mself\u001b[39m):\n\u001b[1;32m   3746\u001b[0m     \u001b[39mif\u001b[39;00m other \u001b[39mis\u001b[39;00m \u001b[39mnot\u001b[39;00m \u001b[39mself\u001b[39m:\n\u001b[0;32m-> 3747\u001b[0m         other\u001b[39m.\u001b[39;49mset_xlim(\u001b[39mself\u001b[39;49m\u001b[39m.\u001b[39;49mviewLim\u001b[39m.\u001b[39;49mintervalx,\n\u001b[1;32m   3748\u001b[0m                        emit\u001b[39m=\u001b[39;49m\u001b[39mFalse\u001b[39;49;00m, auto\u001b[39m=\u001b[39;49mauto)\n\u001b[1;32m   3749\u001b[0m         \u001b[39mif\u001b[39;00m other\u001b[39m.\u001b[39mfigure \u001b[39m!=\u001b[39m \u001b[39mself\u001b[39m\u001b[39m.\u001b[39mfigure:\n\u001b[1;32m   3750\u001b[0m             other\u001b[39m.\u001b[39mfigure\u001b[39m.\u001b[39mcanvas\u001b[39m.\u001b[39mdraw_idle()\n",
      "File \u001b[0;32m~/miniconda3/envs/ds/lib/python3.10/site-packages/matplotlib/axes/_base.py:3696\u001b[0m, in \u001b[0;36m_AxesBase.set_xlim\u001b[0;34m(self, left, right, emit, auto, xmin, xmax)\u001b[0m\n\u001b[1;32m   3693\u001b[0m         \u001b[39mraise\u001b[39;00m \u001b[39mTypeError\u001b[39;00m(\u001b[39m'\u001b[39m\u001b[39mCannot pass both `xmax` and `right`\u001b[39m\u001b[39m'\u001b[39m)\n\u001b[1;32m   3694\u001b[0m     right \u001b[39m=\u001b[39m xmax\n\u001b[0;32m-> 3696\u001b[0m \u001b[39mself\u001b[39;49m\u001b[39m.\u001b[39;49m_process_unit_info([(\u001b[39m\"\u001b[39;49m\u001b[39mx\u001b[39;49m\u001b[39m\"\u001b[39;49m, (left, right))], convert\u001b[39m=\u001b[39;49m\u001b[39mFalse\u001b[39;49;00m)\n\u001b[1;32m   3697\u001b[0m left \u001b[39m=\u001b[39m \u001b[39mself\u001b[39m\u001b[39m.\u001b[39m_validate_converted_limits(left, \u001b[39mself\u001b[39m\u001b[39m.\u001b[39mconvert_xunits)\n\u001b[1;32m   3698\u001b[0m right \u001b[39m=\u001b[39m \u001b[39mself\u001b[39m\u001b[39m.\u001b[39m_validate_converted_limits(right, \u001b[39mself\u001b[39m\u001b[39m.\u001b[39mconvert_xunits)\n",
      "File \u001b[0;32m~/miniconda3/envs/ds/lib/python3.10/site-packages/matplotlib/axes/_base.py:2532\u001b[0m, in \u001b[0;36m_AxesBase._process_unit_info\u001b[0;34m(self, datasets, kwargs, convert)\u001b[0m\n\u001b[1;32m   2530\u001b[0m     \u001b[39mcontinue\u001b[39;00m\n\u001b[1;32m   2531\u001b[0m \u001b[39m# Check for units in the kwargs, and if present update axis.\u001b[39;00m\n\u001b[0;32m-> 2532\u001b[0m units \u001b[39m=\u001b[39m kwargs\u001b[39m.\u001b[39;49mpop(\u001b[39mf\u001b[39;49m\u001b[39m\"\u001b[39;49m\u001b[39m{\u001b[39;49;00maxis_name\u001b[39m}\u001b[39;49;00m\u001b[39munits\u001b[39;49m\u001b[39m\"\u001b[39;49m, axis\u001b[39m.\u001b[39;49munits)\n\u001b[1;32m   2533\u001b[0m \u001b[39mif\u001b[39;00m \u001b[39mself\u001b[39m\u001b[39m.\u001b[39mname \u001b[39m==\u001b[39m \u001b[39m\"\u001b[39m\u001b[39mpolar\u001b[39m\u001b[39m\"\u001b[39m:\n\u001b[1;32m   2534\u001b[0m     \u001b[39m# Special case: polar supports \"thetaunits\"/\"runits\".\u001b[39;00m\n\u001b[1;32m   2535\u001b[0m     polar_units \u001b[39m=\u001b[39m {\u001b[39m\"\u001b[39m\u001b[39mx\u001b[39m\u001b[39m\"\u001b[39m: \u001b[39m\"\u001b[39m\u001b[39mthetaunits\u001b[39m\u001b[39m\"\u001b[39m, \u001b[39m\"\u001b[39m\u001b[39my\u001b[39m\u001b[39m\"\u001b[39m: \u001b[39m\"\u001b[39m\u001b[39mrunits\u001b[39m\u001b[39m\"\u001b[39m}\n",
      "\u001b[0;31mKeyboardInterrupt\u001b[0m: "
     ]
    },
    {
     "name": "stderr",
     "output_type": "stream",
     "text": [
      "/home/newt/miniconda3/envs/ds/lib/python3.10/site-packages/IPython/core/pylabtools.py:151: UserWarning: This figure includes Axes that are not compatible with tight_layout, so results might be incorrect.\n",
      "  fig.canvas.print_figure(bytes_io, **kw)\n"
     ]
    },
    {
     "data": {
      "image/png": "[encoded data removed]",
      "text/plain": [
       "<Figure size 800x800 with 256 Axes>"
      ]
     },
     "metadata": {},
     "output_type": "display_data"
    }
   ],
   "source": [
    "from patch_embedding import ImagePatcher\n",
    "\n",
    "\n",
    "patcher = ImagePatcher(in_channels=IMAGE_CHANNELS, patch_size=IMAGE_WIDTH//N_PATCHES, img_size=IMAGE_HEIGHT)\n",
    "gridSpec = dict(top = 1, bottom = 0, right = 1, left = 0, hspace = 0.2, wspace = 0.2)\n",
    "data_iter = iter(train_loader)\n",
    "images, labels = next(data_iter)\n",
    "patches = patcher.toPatchesTensor(images[1].unsqueeze(0))\n",
    "#patches = patches.reshape((1, N_PATCHES,N_PATCHES,23,23,3))\n",
    "fig, axes = plt.subplots(N_PATCHES, N_PATCHES ,tight_layout=True, figsize=(8,8), sharex=True, sharey=True, gridspec_kw=gridSpec)\n",
    "for i in range((N_PATCHES)):\n",
    "    for j in range((N_PATCHES)):\n",
    "        axes[i,j].axis('off')\n",
    "        axes[i,j].set_aspect('equal')\n",
    "        axes[i,j].imshow(patches[0, i, j], interpolation=None)\n"
   ]
  },
  {
   "cell_type": "code",
   "execution_count": 4,
   "metadata": {},
   "outputs": [
    {
     "name": "stdout",
     "output_type": "stream",
     "text": [
      "Using device:  cuda (NVIDIA GeForce RTX 3080)\n",
      "ROI divided into regions of 224x224x3\n",
      "Using 16x16 patches of 14x14x3\n"
     ]
    },
    {
     "name": "stderr",
     "output_type": "stream",
     "text": [
      "/home/newt/miniconda3/envs/ds/lib/python3.10/site-packages/torch/functional.py:478: UserWarning: torch.meshgrid: in an upcoming release, it will be required to pass the indexing argument. (Triggered internally at  ../aten/src/ATen/native/TensorShape.cpp:2894.)\n",
      "  return _VF.meshgrid(tensors, **kwargs)  # type: ignore[attr-defined]\n"
     ]
    },
    {
     "name": "stdout",
     "output_type": "stream",
     "text": [
      "28546877\n",
      "model size: 109.46MB\n"
     ]
    }
   ],
   "source": [
    "device = torch.device(\"cuda\" if torch.cuda.is_available() else \"cpu\")\n",
    "\n",
    "print(\"Using device: \", device, f\"({torch.cuda.get_device_name(device)})\" if torch.cuda.is_available() else \"\")\n",
    "\n",
    "print(f\"ROI divided into regions of {IMAGE_WIDTH}x{IMAGE_HEIGHT}x{IMAGE_CHANNELS}\\nUsing {N_PATCHES}x{N_PATCHES} patches of {PATCH_WIDTH}x{PATCH_HEIGHT}x{IMAGE_CHANNELS}\")\n",
    "\n",
    "import timm\n",
    "model = timm.create_model('maxvit_tiny_rw_224', pretrained=True, num_classes=len(dataset.classes)).to(device)\n",
    "\n",
    "pytorch_total_params = sum(p.numel() for p in model.parameters())\n",
    "print(pytorch_total_params)\n",
    "\n",
    "param_size = 0\n",
    "for param in model.parameters():\n",
    "    param_size += param.nelement() * param.element_size()\n",
    "buffer_size = 0\n",
    "for buffer in model.buffers():\n",
    "    buffer_size += buffer.nelement() * buffer.element_size()\n",
    "\n",
    "size_all_mb = (param_size + buffer_size) / 1024**2\n",
    "print('model size: {:.2f}MB'.format(size_all_mb))\n"
   ]
  },
  {
   "cell_type": "code",
   "execution_count": 5,
   "metadata": {},
   "outputs": [
    {
     "name": "stderr",
     "output_type": "stream",
     "text": [
      "Training:   0%|          | 0/20 [00:00<?, ?it/s]"
     ]
    },
    {
     "name": "stdout",
     "output_type": "stream",
     "text": [
      "Epoch 1/20 loss: 0.91\n"
     ]
    },
    {
     "name": "stderr",
     "output_type": "stream",
     "text": [
      "Testing: 100%|██████████| 26/26 [00:01<00:00, 13.37it/s]\n",
      "Training:   5%|▌         | 1/20 [00:22<07:06, 22.47s/it]"
     ]
    },
    {
     "name": "stdout",
     "output_type": "stream",
     "text": [
      "Test loss: 0.66\n",
      "Test accuracy: 71.92%\n"
     ]
    },
    {
     "name": "stderr",
     "output_type": "stream",
     "text": []
    },
    {
     "name": "stdout",
     "output_type": "stream",
     "text": [
      "Epoch 2/20 loss: 0.50\n"
     ]
    },
    {
     "name": "stderr",
     "output_type": "stream",
     "text": [
      "Testing: 100%|██████████| 26/26 [00:01<00:00, 13.42it/s]\n",
      "Training:  10%|█         | 2/20 [00:43<06:27, 21.53s/it]"
     ]
    },
    {
     "name": "stdout",
     "output_type": "stream",
     "text": [
      "Test loss: 0.52\n",
      "Test accuracy: 80.05%\n"
     ]
    },
    {
     "name": "stderr",
     "output_type": "stream",
     "text": []
    },
    {
     "name": "stdout",
     "output_type": "stream",
     "text": [
      "Epoch 3/20 loss: 0.36\n"
     ]
    },
    {
     "name": "stderr",
     "output_type": "stream",
     "text": [
      "Testing: 100%|██████████| 26/26 [00:01<00:00, 13.30it/s]\n",
      "Training:  15%|█▌        | 3/20 [01:04<06:01, 21.26s/it]"
     ]
    },
    {
     "name": "stdout",
     "output_type": "stream",
     "text": [
      "Test loss: 0.54\n",
      "Test accuracy: 81.28%\n"
     ]
    },
    {
     "name": "stderr",
     "output_type": "stream",
     "text": []
    },
    {
     "name": "stdout",
     "output_type": "stream",
     "text": [
      "Epoch 4/20 loss: 0.21\n"
     ]
    },
    {
     "name": "stderr",
     "output_type": "stream",
     "text": [
      "Testing: 100%|██████████| 26/26 [00:02<00:00, 12.97it/s]\n",
      "Training:  20%|██        | 4/20 [01:25<05:39, 21.23s/it]"
     ]
    },
    {
     "name": "stdout",
     "output_type": "stream",
     "text": [
      "Test loss: 0.76\n",
      "Test accuracy: 78.08%\n"
     ]
    },
    {
     "name": "stderr",
     "output_type": "stream",
     "text": []
    },
    {
     "name": "stdout",
     "output_type": "stream",
     "text": [
      "Epoch 5/20 loss: 0.11\n"
     ]
    },
    {
     "name": "stderr",
     "output_type": "stream",
     "text": [
      "Testing: 100%|██████████| 26/26 [00:01<00:00, 13.20it/s]\n",
      "Training:  25%|██▌       | 5/20 [01:46<05:16, 21.11s/it]"
     ]
    },
    {
     "name": "stdout",
     "output_type": "stream",
     "text": [
      "Test loss: 0.61\n",
      "Test accuracy: 81.53%\n"
     ]
    },
    {
     "name": "stderr",
     "output_type": "stream",
     "text": []
    },
    {
     "name": "stdout",
     "output_type": "stream",
     "text": [
      "Epoch 6/20 loss: 0.10\n"
     ]
    },
    {
     "name": "stderr",
     "output_type": "stream",
     "text": [
      "Testing: 100%|██████████| 26/26 [00:02<00:00, 12.97it/s]\n",
      "Training:  30%|███       | 6/20 [02:07<04:56, 21.18s/it]"
     ]
    },
    {
     "name": "stdout",
     "output_type": "stream",
     "text": [
      "Test loss: 0.65\n",
      "Test accuracy: 83.00%\n"
     ]
    },
    {
     "name": "stderr",
     "output_type": "stream",
     "text": []
    },
    {
     "name": "stdout",
     "output_type": "stream",
     "text": [
      "Epoch 7/20 loss: 0.05\n"
     ]
    },
    {
     "name": "stderr",
     "output_type": "stream",
     "text": [
      "Testing: 100%|██████████| 26/26 [00:01<00:00, 13.19it/s]\n",
      "Training:  35%|███▌      | 7/20 [02:28<04:34, 21.10s/it]"
     ]
    },
    {
     "name": "stdout",
     "output_type": "stream",
     "text": [
      "Test loss: 0.78\n",
      "Test accuracy: 84.48%\n"
     ]
    },
    {
     "name": "stderr",
     "output_type": "stream",
     "text": []
    },
    {
     "name": "stdout",
     "output_type": "stream",
     "text": [
      "Epoch 8/20 loss: 0.05\n"
     ]
    },
    {
     "name": "stderr",
     "output_type": "stream",
     "text": [
      "Testing: 100%|██████████| 26/26 [00:01<00:00, 13.19it/s]\n",
      "Training:  40%|████      | 8/20 [02:49<04:13, 21.10s/it]"
     ]
    },
    {
     "name": "stdout",
     "output_type": "stream",
     "text": [
      "Test loss: 0.75\n",
      "Test accuracy: 83.99%\n"
     ]
    },
    {
     "name": "stderr",
     "output_type": "stream",
     "text": []
    },
    {
     "name": "stdout",
     "output_type": "stream",
     "text": [
      "Epoch 9/20 loss: 0.04\n"
     ]
    },
    {
     "name": "stderr",
     "output_type": "stream",
     "text": [
      "Testing: 100%|██████████| 26/26 [00:01<00:00, 13.06it/s]\n",
      "Training:  45%|████▌     | 9/20 [03:10<03:51, 21.08s/it]"
     ]
    },
    {
     "name": "stdout",
     "output_type": "stream",
     "text": [
      "Test loss: 0.75\n",
      "Test accuracy: 83.99%\n"
     ]
    },
    {
     "name": "stderr",
     "output_type": "stream",
     "text": []
    },
    {
     "name": "stdout",
     "output_type": "stream",
     "text": [
      "Epoch 10/20 loss: 0.05\n"
     ]
    },
    {
     "name": "stderr",
     "output_type": "stream",
     "text": [
      "Testing: 100%|██████████| 26/26 [00:01<00:00, 13.38it/s]\n",
      "Training:  50%|█████     | 10/20 [03:31<03:29, 20.98s/it]"
     ]
    },
    {
     "name": "stdout",
     "output_type": "stream",
     "text": [
      "Test loss: 0.71\n",
      "Test accuracy: 84.48%\n"
     ]
    },
    {
     "name": "stderr",
     "output_type": "stream",
     "text": []
    },
    {
     "name": "stdout",
     "output_type": "stream",
     "text": [
      "Epoch 11/20 loss: 0.05\n"
     ]
    },
    {
     "name": "stderr",
     "output_type": "stream",
     "text": [
      "Testing: 100%|██████████| 26/26 [00:01<00:00, 13.18it/s]\n",
      "Training:  55%|█████▌    | 11/20 [03:52<03:08, 20.94s/it]"
     ]
    },
    {
     "name": "stdout",
     "output_type": "stream",
     "text": [
      "Test loss: 0.97\n",
      "Test accuracy: 79.80%\n"
     ]
    },
    {
     "name": "stderr",
     "output_type": "stream",
     "text": []
    },
    {
     "name": "stdout",
     "output_type": "stream",
     "text": [
      "Epoch 12/20 loss: 0.06\n"
     ]
    },
    {
     "name": "stderr",
     "output_type": "stream",
     "text": [
      "Testing: 100%|██████████| 26/26 [00:01<00:00, 13.32it/s]\n",
      "Training:  60%|██████    | 12/20 [04:13<02:47, 20.91s/it]"
     ]
    },
    {
     "name": "stdout",
     "output_type": "stream",
     "text": [
      "Test loss: 0.70\n",
      "Test accuracy: 83.99%\n"
     ]
    },
    {
     "name": "stderr",
     "output_type": "stream",
     "text": []
    },
    {
     "name": "stdout",
     "output_type": "stream",
     "text": [
      "Epoch 13/20 loss: 0.04\n"
     ]
    },
    {
     "name": "stderr",
     "output_type": "stream",
     "text": [
      "Testing: 100%|██████████| 26/26 [00:01<00:00, 13.25it/s]\n",
      "Training:  65%|██████▌   | 13/20 [04:34<02:26, 20.92s/it]"
     ]
    },
    {
     "name": "stdout",
     "output_type": "stream",
     "text": [
      "Test loss: 0.74\n",
      "Test accuracy: 82.51%\n"
     ]
    },
    {
     "name": "stderr",
     "output_type": "stream",
     "text": []
    },
    {
     "name": "stdout",
     "output_type": "stream",
     "text": [
      "Epoch 14/20 loss: 0.00\n"
     ]
    },
    {
     "name": "stderr",
     "output_type": "stream",
     "text": [
      "Testing: 100%|██████████| 26/26 [00:02<00:00, 12.64it/s]\n",
      "Training:  70%|███████   | 14/20 [04:55<02:05, 20.93s/it]"
     ]
    },
    {
     "name": "stdout",
     "output_type": "stream",
     "text": [
      "Test loss: 0.78\n",
      "Test accuracy: 84.73%\n"
     ]
    },
    {
     "name": "stderr",
     "output_type": "stream",
     "text": []
    },
    {
     "name": "stdout",
     "output_type": "stream",
     "text": [
      "Epoch 15/20 loss: 0.00\n"
     ]
    },
    {
     "name": "stderr",
     "output_type": "stream",
     "text": [
      "Testing: 100%|██████████| 26/26 [00:01<00:00, 13.18it/s]\n",
      "Training:  75%|███████▌  | 15/20 [05:16<01:44, 20.93s/it]"
     ]
    },
    {
     "name": "stdout",
     "output_type": "stream",
     "text": [
      "Test loss: 0.66\n",
      "Test accuracy: 85.71%\n"
     ]
    },
    {
     "name": "stderr",
     "output_type": "stream",
     "text": []
    },
    {
     "name": "stdout",
     "output_type": "stream",
     "text": [
      "Epoch 16/20 loss: 0.00\n"
     ]
    },
    {
     "name": "stderr",
     "output_type": "stream",
     "text": [
      "Testing: 100%|██████████| 26/26 [00:01<00:00, 13.02it/s]\n",
      "Training:  80%|████████  | 16/20 [05:36<01:23, 20.94s/it]"
     ]
    },
    {
     "name": "stdout",
     "output_type": "stream",
     "text": [
      "Test loss: 0.77\n",
      "Test accuracy: 85.47%\n"
     ]
    },
    {
     "name": "stderr",
     "output_type": "stream",
     "text": []
    },
    {
     "name": "stdout",
     "output_type": "stream",
     "text": [
      "Epoch 17/20 loss: 0.00\n"
     ]
    },
    {
     "name": "stderr",
     "output_type": "stream",
     "text": [
      "Testing: 100%|██████████| 26/26 [00:01<00:00, 13.15it/s]\n",
      "Training:  85%|████████▌ | 17/20 [05:57<01:02, 20.94s/it]"
     ]
    },
    {
     "name": "stdout",
     "output_type": "stream",
     "text": [
      "Test loss: 0.79\n",
      "Test accuracy: 86.95%\n"
     ]
    },
    {
     "name": "stderr",
     "output_type": "stream",
     "text": []
    },
    {
     "name": "stdout",
     "output_type": "stream",
     "text": [
      "Epoch 18/20 loss: 0.00\n"
     ]
    },
    {
     "name": "stderr",
     "output_type": "stream",
     "text": [
      "Testing: 100%|██████████| 26/26 [00:01<00:00, 13.17it/s]\n",
      "Training:  90%|█████████ | 18/20 [06:18<00:41, 20.91s/it]"
     ]
    },
    {
     "name": "stdout",
     "output_type": "stream",
     "text": [
      "Test loss: 0.76\n",
      "Test accuracy: 86.45%\n"
     ]
    },
    {
     "name": "stderr",
     "output_type": "stream",
     "text": []
    },
    {
     "name": "stdout",
     "output_type": "stream",
     "text": [
      "Epoch 19/20 loss: 0.00\n"
     ]
    },
    {
     "name": "stderr",
     "output_type": "stream",
     "text": [
      "Testing: 100%|██████████| 26/26 [00:01<00:00, 13.18it/s]\n",
      "Training:  95%|█████████▌| 19/20 [06:39<00:20, 20.89s/it]"
     ]
    },
    {
     "name": "stdout",
     "output_type": "stream",
     "text": [
      "Test loss: 0.78\n",
      "Test accuracy: 84.98%\n"
     ]
    },
    {
     "name": "stderr",
     "output_type": "stream",
     "text": []
    },
    {
     "name": "stdout",
     "output_type": "stream",
     "text": [
      "Epoch 20/20 loss: 0.00\n"
     ]
    },
    {
     "name": "stderr",
     "output_type": "stream",
     "text": [
      "Testing: 100%|██████████| 26/26 [00:01<00:00, 13.14it/s]\n",
      "Training: 100%|██████████| 20/20 [07:00<00:00, 21.03s/it]"
     ]
    },
    {
     "name": "stdout",
     "output_type": "stream",
     "text": [
      "Test loss: 0.86\n",
      "Test accuracy: 84.48%\n"
     ]
    },
    {
     "name": "stderr",
     "output_type": "stream",
     "text": [
      "\n"
     ]
    }
   ],
   "source": [
    "# Training loop\n",
    "optimizer = Adam(model.parameters(), lr=LR)\n",
    "criterion = CrossEntropyLoss()\n",
    "for epoch in trange(N_EPOCHS, desc=\"Training\"):\n",
    "    train_loss = 0.0\n",
    "    for batch in tqdm(train_loader, desc=f\"Epoch {epoch + 1} in training\", leave=False):\n",
    "        x, y = batch\n",
    "        x, y = x.to(device), y.to(device)\n",
    "        y_hat = model(x)\n",
    "        loss = criterion(y_hat, y)\n",
    "\n",
    "        train_loss += loss.detach().cpu().item() / len(train_loader)\n",
    "\n",
    "        optimizer.zero_grad()\n",
    "        loss.backward()\n",
    "        optimizer.step()\n",
    "\n",
    "    print(f\"Epoch {epoch + 1}/{N_EPOCHS} loss: {train_loss:.2f}\")\n",
    "\n",
    "# Test loop\n",
    "    with torch.no_grad():\n",
    "        correct, total = 0, 0\n",
    "        test_loss = 0.0\n",
    "        for batch in tqdm(test_loader, desc=\"Testing\"):\n",
    "            x, y = batch\n",
    "            x, y = x.to(device), y.to(device)\n",
    "            y_hat = model(x)\n",
    "            loss = criterion(y_hat, y)\n",
    "            test_loss += loss.detach().cpu().item() / len(test_loader)\n",
    "\n",
    "            correct += torch.sum(torch.argmax(y_hat, dim=1) == y).detach().cpu().item()\n",
    "            total += len(x)\n",
    "        print(f\"Test loss: {test_loss:.2f}\")\n",
    "        print(f\"Test accuracy: {correct / total * 100:.2f}%\")\n"
   ]
  },
  {
   "cell_type": "code",
   "execution_count": 6,
   "metadata": {},
   "outputs": [],
   "source": [
    "from sklearn.metrics import confusion_matrix\n",
    "import pandas as pd\n",
    "import seaborn as sn\n",
    "\n",
    "y_pred = []\n",
    "y_true = []\n",
    "\n",
    "# iterate over test data\n",
    "for inputs, labels in test_loader:\n",
    "    output = model(inputs.to(device)) # Feed Network\n",
    "\n",
    "    output = (torch.max(torch.exp(output), 1)[1]).data.cpu().numpy()\n",
    "    y_pred.extend(output) # Save Prediction\n",
    "    \n",
    "    labels = labels.data.cpu().numpy()\n",
    "    y_true.extend(labels) # Save Truth\n"
   ]
  },
  {
   "cell_type": "code",
   "execution_count": 7,
   "metadata": {},
   "outputs": [
    {
     "name": "stdout",
     "output_type": "stream",
     "text": [
      "['rlci', 'rld', 'rlf', 'rnl', 'sr']\n",
      "              precision    recall  f1-score   support\n",
      "\n",
      "           0       0.69      0.74      0.71        62\n",
      "           1       0.79      0.83      0.81        36\n",
      "           2       0.97      0.95      0.96        40\n",
      "           3       0.75      0.63      0.69        71\n",
      "           4       0.93      0.95      0.94       197\n",
      "\n",
      "    accuracy                           0.85       406\n",
      "   macro avg       0.83      0.82      0.82       406\n",
      "weighted avg       0.85      0.85      0.85       406\n",
      "\n"
     ]
    },
    {
     "data": {
      "text/plain": [
       "<sklearn.metrics._plot.confusion_matrix.ConfusionMatrixDisplay at 0x7f6d3032c820>"
      ]
     },
     "execution_count": 7,
     "metadata": {},
     "output_type": "execute_result"
    },
    {
     "data": {
      "image/png": "[encoded data removed]",
      "text/plain": [
       "<Figure size 640x480 with 2 Axes>"
      ]
     },
     "metadata": {},
     "output_type": "display_data"
    }
   ],
   "source": [
    "from sklearn.metrics import classification_report, plot_confusion_matrix, ConfusionMatrixDisplay\n",
    "print(dataset.classes)\n",
    "print(classification_report(y_pred=y_pred, y_true=y_true))\n",
    "disp = ConfusionMatrixDisplay(confusion_matrix(y_pred=y_pred, y_true=y_true)/confusion_matrix(y_pred=y_pred, y_true=y_true).sum(axis=1), display_labels=dataset.classes)\n",
    "\n",
    "disp.plot()"
   ]
  },
  {
   "cell_type": "code",
   "execution_count": null,
   "metadata": {},
   "outputs": [],
   "source": []
  }
 ],
 "metadata": {
  "kernelspec": {
   "display_name": "Python 3.10.4 ('ds')",
   "language": "python",
   "name": "python3"
  },
  "language_info": {
   "codemirror_mode": {
    "name": "ipython",
    "version": 3
   },
   "file_extension": ".py",
   "mimetype": "text/x-python",
   "name": "python",
   "nbconvert_exporter": "python",
   "pygments_lexer": "ipython3",
   "version": "3.10.4"
  },
  "orig_nbformat": 4,
  "vscode": {
   "interpreter": {
    "hash": "e8b0abb2d122c901ff9726ba47a2c598ab6e58c163be92c9400c4f48309bfe56"
   }
  }
 },
 "nbformat": 4,
 "nbformat_minor": 2
}
