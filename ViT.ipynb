{
  "cells": [
    {
      "cell_type": "markdown",
      "metadata": {
        "id": "yAELOL1_29CQ"
      },
      "source": [
        "#Implementación de Visual Transformers"
      ]
    },
    {
      "cell_type": "markdown",
      "metadata": {
        "id": "7E0A_NQ13JmG"
      },
      "source": [
        "##Instalación TensorFlow"
      ]
    },
    {
      "cell_type": "code",
      "execution_count": null,
      "metadata": {
        "colab": {
          "base_uri": "https://localhost:8080/"
        },
        "id": "Uu0j-zx51Uj6",
        "outputId": "6cd4d10b-d88e-4d8a-fc6b-bebc8af136d5"
      },
      "outputs": [
        {
          "output_type": "stream",
          "name": "stdout",
          "text": [
            "Looking in indexes: https://pypi.org/simple, https://us-python.pkg.dev/colab-wheels/public/simple/\n",
            "Collecting tensorflow-addons\n",
            "  Downloading tensorflow_addons-0.19.0-cp38-cp38-manylinux_2_17_x86_64.manylinux2014_x86_64.whl (1.1 MB)\n",
            "\u001b[K     |████████████████████████████████| 1.1 MB 15.2 MB/s \n",
            "\u001b[?25hRequirement already satisfied: typeguard>=2.7 in /usr/local/lib/python3.8/dist-packages (from tensorflow-addons) (2.7.1)\n",
            "Requirement already satisfied: packaging in /usr/local/lib/python3.8/dist-packages (from tensorflow-addons) (21.3)\n",
            "Requirement already satisfied: pyparsing!=3.0.5,>=2.0.2 in /usr/local/lib/python3.8/dist-packages (from packaging->tensorflow-addons) (3.0.9)\n",
            "Installing collected packages: tensorflow-addons\n",
            "Successfully installed tensorflow-addons-0.19.0\n"
          ]
        }
      ],
      "source": [
        "pip install -U tensorflow-addons"
      ]
    },
    {
      "cell_type": "markdown",
      "metadata": {
        "id": "8AShQtr03P5x"
      },
      "source": [
        "##Setup"
      ]
    },
    {
      "cell_type": "code",
      "execution_count": null,
      "metadata": {
        "id": "5qU2_Ydg3TFf"
      },
      "outputs": [],
      "source": [
        "import numpy as np\n",
        "import tensorflow as tf\n",
        "from tensorflow import keras\n",
        "from tensorflow.keras import layers\n",
        "import tensorflow_addons as tfa"
      ]
    },
    {
      "cell_type": "markdown",
      "metadata": {
        "id": "ZtQLVoVQ3XIV"
      },
      "source": [
        "##Preparación de la data"
      ]
    },
    {
      "cell_type": "code",
      "execution_count": null,
      "metadata": {
        "colab": {
          "base_uri": "https://localhost:8080/"
        },
        "id": "6Up8oQPO3bzt",
        "outputId": "2bdcc0dd-719d-47d4-afdc-c246c32cb242"
      },
      "outputs": [
        {
          "output_type": "stream",
          "name": "stdout",
          "text": [
            "Downloading data from https://www.cs.toronto.edu/~kriz/cifar-100-python.tar.gz\n",
            "169001437/169001437 [==============================] - 6s 0us/step\n",
            "x_train shape: (50000, 32, 32, 3) - y_train shape: (50000, 1)\n",
            "x_test shape: (10000, 32, 32, 3) - y_test shape: (10000, 1)\n"
          ]
        }
      ],
      "source": [
        "num_classes = 100\n",
        "input_shape = (32, 32, 3)\n",
        "\n",
        "(x_train, y_train), (x_test, y_test) = keras.datasets.cifar100.load_data()\n",
        "\n",
        "print(f\"x_train shape: {x_train.shape} - y_train shape: {y_train.shape}\")\n",
        "print(f\"x_test shape: {x_test.shape} - y_test shape: {y_test.shape}\")"
      ]
    },
    {
      "cell_type": "markdown",
      "metadata": {
        "id": "d5NNoJak4rOJ"
      },
      "source": [
        "##Configuración de hiperparánetros"
      ]
    },
    {
      "cell_type": "code",
      "execution_count": null,
      "metadata": {
        "id": "fBA9igft4u20"
      },
      "outputs": [],
      "source": [
        "learning_rate = 0.001\n",
        "weight_decay = 0.0001\n",
        "batch_size = 256\n",
        "num_epochs = 100\n",
        "image_size = 72  # We'll resize input images to this size\n",
        "patch_size = 6  # Size of the patches to be extract from the input images\n",
        "num_patches = (image_size // patch_size) ** 2\n",
        "projection_dim = 64\n",
        "num_heads = 4\n",
        "transformer_units = [\n",
        "    projection_dim * 2,\n",
        "    projection_dim,\n",
        "]  # Size of the transformer layers\n",
        "transformer_layers = 8\n",
        "mlp_head_units = [2048, 1024]  # Size of the dense layers of the final classifier"
      ]
    },
    {
      "cell_type": "markdown",
      "metadata": {
        "id": "Z3nlDxU755J4"
      },
      "source": [
        "##Uso de aumento de datos\n",
        "*Técnica para aumentar la diversidad de su conjunto de entrenamiento mediante la aplicación de transformaciones aleatorias (pero realistas), como la rotación de imágenes.\n",
        "\n"
      ]
    },
    {
      "cell_type": "code",
      "execution_count": null,
      "metadata": {
        "id": "wGRtw-uI6HgK"
      },
      "outputs": [],
      "source": [
        "data_augmentation = keras.Sequential(\n",
        "    [\n",
        "        layers.Normalization(),\n",
        "        layers.Resizing(image_size, image_size),\n",
        "        layers.RandomFlip(\"horizontal\"),\n",
        "        layers.RandomRotation(factor=0.02),\n",
        "        layers.RandomZoom(\n",
        "            height_factor=0.2, width_factor=0.2\n",
        "        ),\n",
        "    ],\n",
        "    name=\"data_augmentation\",\n",
        ")\n",
        "# Compute the mean and the variance of the training data for normalization.\n",
        "data_augmentation.layers[0].adapt(x_train)"
      ]
    },
    {
      "cell_type": "markdown",
      "metadata": {
        "id": "xJzPQUnG8O3l"
      },
      "source": [
        "##Implementación de perceptrón multicapa (multilayer perceptron)(MLP)\n",
        "*A multilayer perceptron (MLP) is a fully connected class of feedforward artificial neural network (ANN)."
      ]
    },
    {
      "cell_type": "code",
      "execution_count": null,
      "metadata": {
        "id": "y80VkjUL9Ygx"
      },
      "outputs": [],
      "source": [
        "def mlp(x, hidden_units, dropout_rate):\n",
        "    for units in hidden_units:\n",
        "        x = layers.Dense(units, activation=tf.nn.gelu)(x)\n",
        "        x = layers.Dropout(dropout_rate)(x)\n",
        "    return x"
      ]
    },
    {
      "cell_type": "markdown",
      "metadata": {
        "id": "r9p2MPcg9ldb"
      },
      "source": [
        "##Implementación de la creación de patches como una capa\n"
      ]
    },
    {
      "cell_type": "code",
      "execution_count": null,
      "metadata": {
        "id": "8La9DfAX96gJ"
      },
      "outputs": [],
      "source": [
        "class Patches(layers.Layer):\n",
        "    def __init__(self, patch_size):\n",
        "        super(Patches, self).__init__()\n",
        "        self.patch_size = patch_size\n",
        "\n",
        "    def call(self, images):\n",
        "        batch_size = tf.shape(images)[0]\n",
        "        patches = tf.image.extract_patches(\n",
        "            images=images,\n",
        "            sizes=[1, self.patch_size, self.patch_size, 1],\n",
        "            strides=[1, self.patch_size, self.patch_size, 1],\n",
        "            rates=[1, 1, 1, 1],\n",
        "            padding=\"VALID\",\n",
        "        )\n",
        "        patch_dims = patches.shape[-1]\n",
        "        patches = tf.reshape(patches, [batch_size, -1, patch_dims])\n",
        "        return patches"
      ]
    },
    {
      "cell_type": "markdown",
      "metadata": {
        "id": "SVEH3-Cx-Rt3"
      },
      "source": [
        "Demostración de separación de patches para una imagen cualquiera:"
      ]
    },
    {
      "cell_type": "code",
      "execution_count": null,
      "metadata": {
        "colab": {
          "base_uri": "https://localhost:8080/",
          "height": 548
        },
        "id": "sYbRQu3C-eLg",
        "outputId": "dbf34f44-1d5b-4e40-eeda-4391e61b4d69"
      },
      "outputs": [
        {
          "output_type": "stream",
          "name": "stdout",
          "text": [
            "Image size: 72 X 72\n",
            "Patch size: 6 X 6\n",
            "Patches per image: 144\n",
            "Elements per patch: 108\n"
          ]
        },
        {
          "output_type": "display_data",
          "data": {
            "text/plain": [
              "<Figure size 288x288 with 1 Axes>"
            ],
            "image/png": "[encoded data removed]"
          },
          "metadata": {
            "needs_background": "light"
          }
        },
        {
          "output_type": "display_data",
          "data": {
            "text/plain": [
              "<Figure size 288x288 with 144 Axes>"
            ],
            "image/png": "[encoded data removed]"
          },
          "metadata": {
            "needs_background": "light"
          }
        }
      ],
      "source": [
        "import matplotlib.pyplot as plt\n",
        "\n",
        "plt.figure(figsize=(4, 4))\n",
        "image = x_train[np.random.choice(range(x_train.shape[0]))]\n",
        "plt.imshow(image.astype(\"uint8\"))\n",
        "plt.axis(\"off\")\n",
        "\n",
        "resized_image = tf.image.resize(\n",
        "    tf.convert_to_tensor([image]), size=(image_size, image_size)\n",
        ")\n",
        "patches = Patches(patch_size)(resized_image)\n",
        "print(f\"Image size: {image_size} X {image_size}\")\n",
        "print(f\"Patch size: {patch_size} X {patch_size}\")\n",
        "print(f\"Patches per image: {patches.shape[1]}\")\n",
        "print(f\"Elements per patch: {patches.shape[-1]}\")\n",
        "\n",
        "n = int(np.sqrt(patches.shape[1]))\n",
        "plt.figure(figsize=(4, 4))\n",
        "for i, patch in enumerate(patches[0]):\n",
        "    ax = plt.subplot(n, n, i + 1)\n",
        "    patch_img = tf.reshape(patch, (patch_size, patch_size, 3))\n",
        "    plt.imshow(patch_img.numpy().astype(\"uint8\"))\n",
        "    plt.axis(\"off\")"
      ]
    },
    {
      "cell_type": "markdown",
      "metadata": {
        "id": "df5qABm9_y51"
      },
      "source": [
        "##Implementación de la capa de encoding de patches\n",
        "The PatchEncoder layer will linearly transform a patch by projecting it into a vector of size projection_dim. In addition, it adds a learnable position embedding to the projected vector."
      ]
    },
    {
      "cell_type": "code",
      "execution_count": null,
      "metadata": {
        "id": "ORkIa4uAAJ43"
      },
      "outputs": [],
      "source": [
        "class PatchEncoder(layers.Layer):\n",
        "    def __init__(self, num_patches, projection_dim):\n",
        "        super(PatchEncoder, self).__init__()\n",
        "        self.num_patches = num_patches\n",
        "        self.projection = layers.Dense(units=projection_dim)\n",
        "        self.position_embedding = layers.Embedding(\n",
        "            input_dim=num_patches, output_dim=projection_dim\n",
        "        )\n",
        "\n",
        "    def call(self, patch):\n",
        "        positions = tf.range(start=0, limit=self.num_patches, delta=1)\n",
        "        encoded = self.projection(patch) + self.position_embedding(positions)\n",
        "        return encoded"
      ]
    },
    {
      "cell_type": "markdown",
      "metadata": {
        "id": "MlM8ODaCCd_r"
      },
      "source": [
        "##Construcción del modelo ViT\n",
        "The ViT model consists of multiple Transformer blocks, which use the layers.MultiHeadAttention layer as a self-attention mechanism applied to the sequence of patches. The Transformer blocks produce a [batch_size, num_patches, projection_dim] tensor, which is processed via an classifier head with softmax to produce the final class probabilities output.\n",
        "\n",
        "Unlike the technique described in the paper, which prepends a learnable embedding to the sequence of encoded patches to serve as the image representation, all the outputs of the final Transformer block are reshaped with layers.Flatten() and used as the image representation input to the classifier head. Note that the layers.GlobalAveragePooling1D layer could also be used instead to aggregate the outputs of the Transformer block, especially when the number of patches and the projection dimensions are large."
      ]
    },
    {
      "cell_type": "code",
      "execution_count": null,
      "metadata": {
        "id": "IPlgD3chCjmi"
      },
      "outputs": [],
      "source": [
        "def create_vit_classifier():\n",
        "    inputs = layers.Input(shape=input_shape)\n",
        "    # Augment data.\n",
        "    augmented = data_augmentation(inputs)\n",
        "    # Create patches.\n",
        "    patches = Patches(patch_size)(augmented)\n",
        "    # Encode patches.\n",
        "    encoded_patches = PatchEncoder(num_patches, projection_dim)(patches)\n",
        "\n",
        "    # Create multiple layers of the Transformer block.\n",
        "    for _ in range(transformer_layers):\n",
        "        # Layer normalization 1.\n",
        "        x1 = layers.LayerNormalization(epsilon=1e-6)(encoded_patches)\n",
        "        # Create a multi-head attention layer.\n",
        "        attention_output = layers.MultiHeadAttention(\n",
        "            num_heads=num_heads, key_dim=projection_dim, dropout=0.1\n",
        "        )(x1, x1)\n",
        "        # Skip connection 1.\n",
        "        x2 = layers.Add()([attention_output, encoded_patches])\n",
        "        # Layer normalization 2.\n",
        "        x3 = layers.LayerNormalization(epsilon=1e-6)(x2)\n",
        "        # MLP.\n",
        "        x3 = mlp(x3, hidden_units=transformer_units, dropout_rate=0.1)\n",
        "        # Skip connection 2.\n",
        "        encoded_patches = layers.Add()([x3, x2])\n",
        "\n",
        "    # Create a [batch_size, projection_dim] tensor.\n",
        "    representation = layers.LayerNormalization(epsilon=1e-6)(encoded_patches)\n",
        "    representation = layers.Flatten()(representation)\n",
        "    representation = layers.Dropout(0.5)(representation)\n",
        "    # Add MLP.\n",
        "    features = mlp(representation, hidden_units=mlp_head_units, dropout_rate=0.5)\n",
        "    # Classify outputs.\n",
        "    logits = layers.Dense(num_classes)(features)\n",
        "    # Create the Keras model.\n",
        "    model = keras.Model(inputs=inputs, outputs=logits)\n",
        "    return model"
      ]
    },
    {
      "cell_type": "markdown",
      "metadata": {
        "id": "AlWOC-CHEGa5"
      },
      "source": [
        "##Compilado, entrenamiento y evaluación"
      ]
    },
    {
      "cell_type": "code",
      "execution_count": null,
      "metadata": {
        "colab": {
          "base_uri": "https://localhost:8080/"
        },
        "id": "-FT0UaBCEMN4",
        "outputId": "321c178d-ce39-4644-df10-2d7b754968b0"
      },
      "outputs": [
        {
          "output_type": "stream",
          "name": "stdout",
          "text": [
            "Epoch 1/100\n",
            "176/176 [==============================] - 101s 504ms/step - loss: 4.4589 - accuracy: 0.0466 - top-5-accuracy: 0.1628 - val_loss: 3.9242 - val_accuracy: 0.1122 - val_top-5-accuracy: 0.3080\n",
            "Epoch 2/100\n",
            "176/176 [==============================] - 86s 491ms/step - loss: 3.9135 - accuracy: 0.0971 - top-5-accuracy: 0.3006 - val_loss: 3.5535 - val_accuracy: 0.1636 - val_top-5-accuracy: 0.4228\n",
            "Epoch 3/100\n",
            "176/176 [==============================] - 86s 491ms/step - loss: 3.6554 - accuracy: 0.1354 - top-5-accuracy: 0.3758 - val_loss: 3.3089 - val_accuracy: 0.2076 - val_top-5-accuracy: 0.4778\n",
            "Epoch 4/100\n",
            "176/176 [==============================] - 87s 496ms/step - loss: 3.4693 - accuracy: 0.1661 - top-5-accuracy: 0.4325 - val_loss: 3.1616 - val_accuracy: 0.2336 - val_top-5-accuracy: 0.5308\n",
            "Epoch 5/100\n",
            "176/176 [==============================] - 87s 492ms/step - loss: 3.3173 - accuracy: 0.1961 - top-5-accuracy: 0.4756 - val_loss: 2.9995 - val_accuracy: 0.2580 - val_top-5-accuracy: 0.5656\n",
            "Epoch 6/100\n",
            "176/176 [==============================] - 86s 490ms/step - loss: 3.1866 - accuracy: 0.2204 - top-5-accuracy: 0.5108 - val_loss: 2.9193 - val_accuracy: 0.2698 - val_top-5-accuracy: 0.5746\n",
            "Epoch 7/100\n",
            "176/176 [==============================] - 86s 490ms/step - loss: 3.0635 - accuracy: 0.2416 - top-5-accuracy: 0.5404 - val_loss: 2.8042 - val_accuracy: 0.3096 - val_top-5-accuracy: 0.6080\n",
            "Epoch 8/100\n",
            "176/176 [==============================] - 87s 496ms/step - loss: 2.9542 - accuracy: 0.2655 - top-5-accuracy: 0.5700 - val_loss: 2.6848 - val_accuracy: 0.3240 - val_top-5-accuracy: 0.6326\n",
            "Epoch 9/100\n",
            "176/176 [==============================] - 86s 489ms/step - loss: 2.8427 - accuracy: 0.2853 - top-5-accuracy: 0.5934 - val_loss: 2.6116 - val_accuracy: 0.3340 - val_top-5-accuracy: 0.6526\n",
            "Epoch 10/100\n",
            "176/176 [==============================] - 86s 490ms/step - loss: 2.7542 - accuracy: 0.3038 - top-5-accuracy: 0.6162 - val_loss: 2.5720 - val_accuracy: 0.3504 - val_top-5-accuracy: 0.6496\n",
            "Epoch 11/100\n",
            "176/176 [==============================] - 87s 493ms/step - loss: 2.6661 - accuracy: 0.3212 - top-5-accuracy: 0.6368 - val_loss: 2.4591 - val_accuracy: 0.3702 - val_top-5-accuracy: 0.6788\n",
            "Epoch 12/100\n",
            "176/176 [==============================] - 86s 489ms/step - loss: 2.5858 - accuracy: 0.3365 - top-5-accuracy: 0.6530 - val_loss: 2.4070 - val_accuracy: 0.3780 - val_top-5-accuracy: 0.6908\n",
            "Epoch 13/100\n",
            "176/176 [==============================] - 86s 490ms/step - loss: 2.5077 - accuracy: 0.3564 - top-5-accuracy: 0.6700 - val_loss: 2.3587 - val_accuracy: 0.3828 - val_top-5-accuracy: 0.7008\n",
            "Epoch 14/100\n",
            "176/176 [==============================] - 86s 488ms/step - loss: 2.4430 - accuracy: 0.3680 - top-5-accuracy: 0.6855 - val_loss: 2.3183 - val_accuracy: 0.3980 - val_top-5-accuracy: 0.7070\n",
            "Epoch 15/100\n",
            "176/176 [==============================] - 86s 488ms/step - loss: 2.3622 - accuracy: 0.3838 - top-5-accuracy: 0.7000 - val_loss: 2.2739 - val_accuracy: 0.4212 - val_top-5-accuracy: 0.7124\n",
            "Epoch 16/100\n",
            "176/176 [==============================] - 87s 494ms/step - loss: 2.2973 - accuracy: 0.3990 - top-5-accuracy: 0.7159 - val_loss: 2.2229 - val_accuracy: 0.4244 - val_top-5-accuracy: 0.7248\n",
            "Epoch 17/100\n",
            "176/176 [==============================] - 86s 488ms/step - loss: 2.2401 - accuracy: 0.4120 - top-5-accuracy: 0.7252 - val_loss: 2.1901 - val_accuracy: 0.4286 - val_top-5-accuracy: 0.7318\n",
            "Epoch 18/100\n",
            "176/176 [==============================] - 86s 488ms/step - loss: 2.1892 - accuracy: 0.4233 - top-5-accuracy: 0.7370 - val_loss: 2.1401 - val_accuracy: 0.4460 - val_top-5-accuracy: 0.7374\n",
            "Epoch 19/100\n",
            "176/176 [==============================] - 86s 490ms/step - loss: 2.1198 - accuracy: 0.4364 - top-5-accuracy: 0.7505 - val_loss: 2.1055 - val_accuracy: 0.4424 - val_top-5-accuracy: 0.7454\n",
            "Epoch 20/100\n",
            "176/176 [==============================] - 86s 488ms/step - loss: 2.0669 - accuracy: 0.4499 - top-5-accuracy: 0.7604 - val_loss: 2.0998 - val_accuracy: 0.4524 - val_top-5-accuracy: 0.7470\n",
            "Epoch 21/100\n",
            "176/176 [==============================] - 86s 488ms/step - loss: 2.0160 - accuracy: 0.4602 - top-5-accuracy: 0.7697 - val_loss: 2.0436 - val_accuracy: 0.4692 - val_top-5-accuracy: 0.7602\n",
            "Epoch 22/100\n",
            "176/176 [==============================] - 86s 489ms/step - loss: 1.9681 - accuracy: 0.4713 - top-5-accuracy: 0.7824 - val_loss: 2.0438 - val_accuracy: 0.4664 - val_top-5-accuracy: 0.7582\n",
            "Epoch 23/100\n",
            "176/176 [==============================] - 86s 488ms/step - loss: 1.9120 - accuracy: 0.4808 - top-5-accuracy: 0.7922 - val_loss: 1.9938 - val_accuracy: 0.4808 - val_top-5-accuracy: 0.7704\n",
            "Epoch 24/100\n",
            "176/176 [==============================] - 86s 488ms/step - loss: 1.8651 - accuracy: 0.4940 - top-5-accuracy: 0.8010 - val_loss: 1.9991 - val_accuracy: 0.4810 - val_top-5-accuracy: 0.7686\n",
            "Epoch 25/100\n",
            "176/176 [==============================] - 86s 491ms/step - loss: 1.8263 - accuracy: 0.5005 - top-5-accuracy: 0.8083 - val_loss: 2.0450 - val_accuracy: 0.4626 - val_top-5-accuracy: 0.7590\n",
            "Epoch 26/100\n",
            "176/176 [==============================] - 86s 488ms/step - loss: 1.7848 - accuracy: 0.5113 - top-5-accuracy: 0.8134 - val_loss: 1.9660 - val_accuracy: 0.4880 - val_top-5-accuracy: 0.7774\n",
            "Epoch 27/100\n",
            "176/176 [==============================] - 86s 488ms/step - loss: 1.7408 - accuracy: 0.5222 - top-5-accuracy: 0.8234 - val_loss: 1.9423 - val_accuracy: 0.4896 - val_top-5-accuracy: 0.7834\n",
            "Epoch 28/100\n",
            "176/176 [==============================] - 87s 494ms/step - loss: 1.6955 - accuracy: 0.5302 - top-5-accuracy: 0.8314 - val_loss: 1.9226 - val_accuracy: 0.5004 - val_top-5-accuracy: 0.7846\n",
            "Epoch 29/100\n",
            "176/176 [==============================] - 85s 483ms/step - loss: 1.6617 - accuracy: 0.5401 - top-5-accuracy: 0.8360 - val_loss: 1.9289 - val_accuracy: 0.5004 - val_top-5-accuracy: 0.7830\n",
            "Epoch 30/100\n",
            "176/176 [==============================] - 85s 483ms/step - loss: 1.6295 - accuracy: 0.5491 - top-5-accuracy: 0.8425 - val_loss: 1.9289 - val_accuracy: 0.5000 - val_top-5-accuracy: 0.7870\n",
            "Epoch 31/100\n",
            "176/176 [==============================] - 86s 489ms/step - loss: 1.6021 - accuracy: 0.5512 - top-5-accuracy: 0.8457 - val_loss: 1.9154 - val_accuracy: 0.4980 - val_top-5-accuracy: 0.7868\n",
            "Epoch 32/100\n",
            "176/176 [==============================] - 86s 489ms/step - loss: 1.5674 - accuracy: 0.5621 - top-5-accuracy: 0.8529 - val_loss: 1.8784 - val_accuracy: 0.5054 - val_top-5-accuracy: 0.7932\n",
            "Epoch 33/100\n",
            "176/176 [==============================] - 86s 490ms/step - loss: 1.5365 - accuracy: 0.5682 - top-5-accuracy: 0.8577 - val_loss: 1.8878 - val_accuracy: 0.5072 - val_top-5-accuracy: 0.7908\n",
            "Epoch 34/100\n",
            "176/176 [==============================] - 87s 495ms/step - loss: 1.5008 - accuracy: 0.5753 - top-5-accuracy: 0.8640 - val_loss: 1.8737 - val_accuracy: 0.5078 - val_top-5-accuracy: 0.7962\n",
            "Epoch 35/100\n",
            "176/176 [==============================] - 86s 487ms/step - loss: 1.4770 - accuracy: 0.5829 - top-5-accuracy: 0.8668 - val_loss: 1.8545 - val_accuracy: 0.5090 - val_top-5-accuracy: 0.7970\n",
            "Epoch 36/100\n",
            "176/176 [==============================] - 86s 488ms/step - loss: 1.4460 - accuracy: 0.5934 - top-5-accuracy: 0.8711 - val_loss: 1.8776 - val_accuracy: 0.5180 - val_top-5-accuracy: 0.7992\n",
            "Epoch 37/100\n",
            "176/176 [==============================] - 86s 490ms/step - loss: 1.4158 - accuracy: 0.5972 - top-5-accuracy: 0.8757 - val_loss: 1.8671 - val_accuracy: 0.5090 - val_top-5-accuracy: 0.8004\n",
            "Epoch 38/100\n",
            "176/176 [==============================] - 85s 482ms/step - loss: 1.3994 - accuracy: 0.6029 - top-5-accuracy: 0.8792 - val_loss: 1.8607 - val_accuracy: 0.5154 - val_top-5-accuracy: 0.7994\n",
            "Epoch 39/100\n",
            "176/176 [==============================] - 85s 482ms/step - loss: 1.3611 - accuracy: 0.6125 - top-5-accuracy: 0.8853 - val_loss: 1.8655 - val_accuracy: 0.5138 - val_top-5-accuracy: 0.8010\n",
            "Epoch 40/100\n",
            "176/176 [==============================] - 86s 490ms/step - loss: 1.3509 - accuracy: 0.6130 - top-5-accuracy: 0.8877 - val_loss: 1.8388 - val_accuracy: 0.5162 - val_top-5-accuracy: 0.8010\n",
            "Epoch 41/100\n",
            "176/176 [==============================] - 85s 483ms/step - loss: 1.3193 - accuracy: 0.6211 - top-5-accuracy: 0.8934 - val_loss: 1.8905 - val_accuracy: 0.5180 - val_top-5-accuracy: 0.7940\n",
            "Epoch 42/100\n",
            "176/176 [==============================] - 87s 494ms/step - loss: 1.3068 - accuracy: 0.6235 - top-5-accuracy: 0.8955 - val_loss: 1.8277 - val_accuracy: 0.5278 - val_top-5-accuracy: 0.8088\n",
            "Epoch 43/100\n",
            "176/176 [==============================] - 85s 483ms/step - loss: 1.2854 - accuracy: 0.6314 - top-5-accuracy: 0.8977 - val_loss: 1.8709 - val_accuracy: 0.5194 - val_top-5-accuracy: 0.8046\n",
            "Epoch 44/100\n",
            "176/176 [==============================] - 87s 494ms/step - loss: 1.2748 - accuracy: 0.6358 - top-5-accuracy: 0.8981 - val_loss: 1.8481 - val_accuracy: 0.5280 - val_top-5-accuracy: 0.8088\n",
            "Epoch 45/100\n",
            "176/176 [==============================] - 85s 483ms/step - loss: 1.2394 - accuracy: 0.6409 - top-5-accuracy: 0.9042 - val_loss: 1.8333 - val_accuracy: 0.5208 - val_top-5-accuracy: 0.8098\n",
            "Epoch 46/100\n",
            "176/176 [==============================] - 87s 491ms/step - loss: 1.2287 - accuracy: 0.6464 - top-5-accuracy: 0.9044 - val_loss: 1.8522 - val_accuracy: 0.5306 - val_top-5-accuracy: 0.8056\n",
            "Epoch 47/100\n",
            "176/176 [==============================] - 85s 484ms/step - loss: 1.1936 - accuracy: 0.6499 - top-5-accuracy: 0.9121 - val_loss: 1.8782 - val_accuracy: 0.5252 - val_top-5-accuracy: 0.8054\n",
            "Epoch 48/100\n",
            "176/176 [==============================] - 86s 486ms/step - loss: 1.1812 - accuracy: 0.6560 - top-5-accuracy: 0.9116 - val_loss: 1.8580 - val_accuracy: 0.5278 - val_top-5-accuracy: 0.8046\n",
            "Epoch 49/100\n",
            "176/176 [==============================] - 85s 484ms/step - loss: 1.1677 - accuracy: 0.6582 - top-5-accuracy: 0.9157 - val_loss: 1.8757 - val_accuracy: 0.5268 - val_top-5-accuracy: 0.8074\n",
            "Epoch 50/100\n",
            "176/176 [==============================] - 86s 490ms/step - loss: 1.1639 - accuracy: 0.6585 - top-5-accuracy: 0.9165 - val_loss: 1.8544 - val_accuracy: 0.5348 - val_top-5-accuracy: 0.8068\n",
            "Epoch 51/100\n",
            "176/176 [==============================] - 85s 483ms/step - loss: 1.1415 - accuracy: 0.6669 - top-5-accuracy: 0.9182 - val_loss: 1.8634 - val_accuracy: 0.5304 - val_top-5-accuracy: 0.8072\n",
            "Epoch 52/100\n",
            "176/176 [==============================] - 86s 490ms/step - loss: 1.1256 - accuracy: 0.6684 - top-5-accuracy: 0.9200 - val_loss: 1.8585 - val_accuracy: 0.5332 - val_top-5-accuracy: 0.8034\n",
            "Epoch 53/100\n",
            "176/176 [==============================] - 85s 482ms/step - loss: 1.1084 - accuracy: 0.6741 - top-5-accuracy: 0.9222 - val_loss: 1.9029 - val_accuracy: 0.5336 - val_top-5-accuracy: 0.7990\n",
            "Epoch 54/100\n",
            "176/176 [==============================] - 87s 493ms/step - loss: 1.0941 - accuracy: 0.6789 - top-5-accuracy: 0.9229 - val_loss: 1.8558 - val_accuracy: 0.5354 - val_top-5-accuracy: 0.8174\n",
            "Epoch 55/100\n",
            "176/176 [==============================] - 86s 488ms/step - loss: 1.0828 - accuracy: 0.6818 - top-5-accuracy: 0.9260 - val_loss: 1.8688 - val_accuracy: 0.5418 - val_top-5-accuracy: 0.8132\n",
            "Epoch 56/100\n",
            "176/176 [==============================] - 86s 490ms/step - loss: 1.0668 - accuracy: 0.6860 - top-5-accuracy: 0.9282 - val_loss: 1.8632 - val_accuracy: 0.5408 - val_top-5-accuracy: 0.8140\n",
            "Epoch 57/100\n",
            "176/176 [==============================] - 85s 482ms/step - loss: 1.0592 - accuracy: 0.6884 - top-5-accuracy: 0.9282 - val_loss: 1.8684 - val_accuracy: 0.5352 - val_top-5-accuracy: 0.8108\n",
            "Epoch 58/100\n",
            "176/176 [==============================] - 86s 489ms/step - loss: 1.0490 - accuracy: 0.6913 - top-5-accuracy: 0.9303 - val_loss: 1.8865 - val_accuracy: 0.5400 - val_top-5-accuracy: 0.8086\n",
            "Epoch 59/100\n",
            "176/176 [==============================] - 85s 483ms/step - loss: 1.0374 - accuracy: 0.6952 - top-5-accuracy: 0.9305 - val_loss: 1.8878 - val_accuracy: 0.5304 - val_top-5-accuracy: 0.8104\n",
            "Epoch 60/100\n",
            "176/176 [==============================] - 86s 490ms/step - loss: 1.0194 - accuracy: 0.7006 - top-5-accuracy: 0.9339 - val_loss: 1.8573 - val_accuracy: 0.5396 - val_top-5-accuracy: 0.8124\n",
            "Epoch 61/100\n",
            "176/176 [==============================] - 85s 484ms/step - loss: 1.0125 - accuracy: 0.7006 - top-5-accuracy: 0.9354 - val_loss: 1.8739 - val_accuracy: 0.5410 - val_top-5-accuracy: 0.8142\n",
            "Epoch 62/100\n",
            "176/176 [==============================] - 87s 492ms/step - loss: 1.0128 - accuracy: 0.7019 - top-5-accuracy: 0.9346 - val_loss: 1.8333 - val_accuracy: 0.5426 - val_top-5-accuracy: 0.8148\n",
            "Epoch 63/100\n",
            "176/176 [==============================] - 85s 485ms/step - loss: 0.9882 - accuracy: 0.7060 - top-5-accuracy: 0.9387 - val_loss: 1.8845 - val_accuracy: 0.5374 - val_top-5-accuracy: 0.8166\n",
            "Epoch 64/100\n",
            "176/176 [==============================] - 85s 486ms/step - loss: 0.9908 - accuracy: 0.7049 - top-5-accuracy: 0.9385 - val_loss: 1.8947 - val_accuracy: 0.5404 - val_top-5-accuracy: 0.8090\n",
            "Epoch 65/100\n",
            "176/176 [==============================] - 85s 485ms/step - loss: 0.9777 - accuracy: 0.7096 - top-5-accuracy: 0.9385 - val_loss: 1.8814 - val_accuracy: 0.5314 - val_top-5-accuracy: 0.8108\n",
            "Epoch 66/100\n",
            "176/176 [==============================] - 86s 491ms/step - loss: 0.9554 - accuracy: 0.7139 - top-5-accuracy: 0.9425 - val_loss: 1.8936 - val_accuracy: 0.5496 - val_top-5-accuracy: 0.8094\n",
            "Epoch 67/100\n",
            "176/176 [==============================] - 86s 488ms/step - loss: 0.9571 - accuracy: 0.7165 - top-5-accuracy: 0.9416 - val_loss: 1.8909 - val_accuracy: 0.5358 - val_top-5-accuracy: 0.8064\n",
            "Epoch 68/100\n",
            "176/176 [==============================] - 86s 487ms/step - loss: 0.9420 - accuracy: 0.7196 - top-5-accuracy: 0.9437 - val_loss: 1.9339 - val_accuracy: 0.5318 - val_top-5-accuracy: 0.8114\n",
            "Epoch 69/100\n",
            "176/176 [==============================] - 86s 490ms/step - loss: 0.9339 - accuracy: 0.7237 - top-5-accuracy: 0.9439 - val_loss: 1.9061 - val_accuracy: 0.5378 - val_top-5-accuracy: 0.8098\n",
            "Epoch 70/100\n",
            "176/176 [==============================] - 85s 483ms/step - loss: 0.9363 - accuracy: 0.7217 - top-5-accuracy: 0.9442 - val_loss: 1.8910 - val_accuracy: 0.5390 - val_top-5-accuracy: 0.8192\n",
            "Epoch 71/100\n",
            "176/176 [==============================] - 86s 490ms/step - loss: 0.9151 - accuracy: 0.7265 - top-5-accuracy: 0.9473 - val_loss: 1.9348 - val_accuracy: 0.5396 - val_top-5-accuracy: 0.8134\n",
            "Epoch 72/100\n",
            "176/176 [==============================] - 85s 483ms/step - loss: 0.9142 - accuracy: 0.7274 - top-5-accuracy: 0.9455 - val_loss: 1.9171 - val_accuracy: 0.5422 - val_top-5-accuracy: 0.8168\n",
            "Epoch 73/100\n",
            "176/176 [==============================] - 86s 490ms/step - loss: 0.9154 - accuracy: 0.7271 - top-5-accuracy: 0.9463 - val_loss: 1.8836 - val_accuracy: 0.5464 - val_top-5-accuracy: 0.8162\n",
            "Epoch 74/100\n",
            "176/176 [==============================] - 85s 483ms/step - loss: 0.8870 - accuracy: 0.7364 - top-5-accuracy: 0.9495 - val_loss: 1.9243 - val_accuracy: 0.5346 - val_top-5-accuracy: 0.8058\n",
            "Epoch 75/100\n",
            "176/176 [==============================] - 86s 489ms/step - loss: 0.9008 - accuracy: 0.7320 - top-5-accuracy: 0.9486 - val_loss: 1.8836 - val_accuracy: 0.5446 - val_top-5-accuracy: 0.8132\n",
            "Epoch 76/100\n",
            "176/176 [==============================] - 86s 488ms/step - loss: 0.8838 - accuracy: 0.7361 - top-5-accuracy: 0.9498 - val_loss: 1.8785 - val_accuracy: 0.5502 - val_top-5-accuracy: 0.8174\n",
            "Epoch 77/100\n",
            "176/176 [==============================] - 86s 490ms/step - loss: 0.8944 - accuracy: 0.7356 - top-5-accuracy: 0.9487 - val_loss: 1.9120 - val_accuracy: 0.5404 - val_top-5-accuracy: 0.8110\n",
            "Epoch 78/100\n",
            "176/176 [==============================] - 85s 484ms/step - loss: 0.8625 - accuracy: 0.7431 - top-5-accuracy: 0.9515 - val_loss: 1.9251 - val_accuracy: 0.5436 - val_top-5-accuracy: 0.8086\n",
            "Epoch 79/100\n",
            "176/176 [==============================] - 87s 492ms/step - loss: 0.8694 - accuracy: 0.7392 - top-5-accuracy: 0.9504 - val_loss: 1.8970 - val_accuracy: 0.5414 - val_top-5-accuracy: 0.8120\n",
            "Epoch 80/100\n",
            "176/176 [==============================] - 85s 485ms/step - loss: 0.8633 - accuracy: 0.7429 - top-5-accuracy: 0.9518 - val_loss: 1.9055 - val_accuracy: 0.5446 - val_top-5-accuracy: 0.8170\n",
            "Epoch 81/100\n",
            "176/176 [==============================] - 86s 490ms/step - loss: 0.8522 - accuracy: 0.7441 - top-5-accuracy: 0.9532 - val_loss: 1.9183 - val_accuracy: 0.5380 - val_top-5-accuracy: 0.8092\n",
            "Epoch 82/100\n",
            "176/176 [==============================] - 85s 485ms/step - loss: 0.8554 - accuracy: 0.7458 - top-5-accuracy: 0.9530 - val_loss: 1.9305 - val_accuracy: 0.5496 - val_top-5-accuracy: 0.8044\n",
            "Epoch 83/100\n",
            "176/176 [==============================] - 86s 490ms/step - loss: 0.8447 - accuracy: 0.7454 - top-5-accuracy: 0.9546 - val_loss: 1.9099 - val_accuracy: 0.5456 - val_top-5-accuracy: 0.8152\n",
            "Epoch 84/100\n",
            "176/176 [==============================] - 85s 485ms/step - loss: 0.8242 - accuracy: 0.7537 - top-5-accuracy: 0.9560 - val_loss: 1.9580 - val_accuracy: 0.5416 - val_top-5-accuracy: 0.8096\n",
            "Epoch 85/100\n",
            "176/176 [==============================] - 86s 491ms/step - loss: 0.8399 - accuracy: 0.7462 - top-5-accuracy: 0.9558 - val_loss: 1.8997 - val_accuracy: 0.5428 - val_top-5-accuracy: 0.8064\n",
            "Epoch 86/100\n",
            "176/176 [==============================] - 85s 483ms/step - loss: 0.8250 - accuracy: 0.7538 - top-5-accuracy: 0.9557 - val_loss: 1.9297 - val_accuracy: 0.5442 - val_top-5-accuracy: 0.8102\n",
            "Epoch 87/100\n",
            "176/176 [==============================] - 86s 488ms/step - loss: 0.8163 - accuracy: 0.7569 - top-5-accuracy: 0.9568 - val_loss: 1.8986 - val_accuracy: 0.5444 - val_top-5-accuracy: 0.8142\n",
            "Epoch 88/100\n",
            "176/176 [==============================] - 85s 483ms/step - loss: 0.8137 - accuracy: 0.7553 - top-5-accuracy: 0.9570 - val_loss: 1.9384 - val_accuracy: 0.5454 - val_top-5-accuracy: 0.8140\n",
            "Epoch 89/100\n",
            "176/176 [==============================] - 86s 490ms/step - loss: 0.8094 - accuracy: 0.7561 - top-5-accuracy: 0.9567 - val_loss: 1.9157 - val_accuracy: 0.5398 - val_top-5-accuracy: 0.8162\n",
            "Epoch 90/100\n",
            "176/176 [==============================] - 85s 483ms/step - loss: 0.8050 - accuracy: 0.7570 - top-5-accuracy: 0.9589 - val_loss: 1.8992 - val_accuracy: 0.5426 - val_top-5-accuracy: 0.8144\n",
            "Epoch 91/100\n",
            "176/176 [==============================] - 87s 495ms/step - loss: 0.7960 - accuracy: 0.7620 - top-5-accuracy: 0.9592 - val_loss: 1.9342 - val_accuracy: 0.5544 - val_top-5-accuracy: 0.8128\n",
            "Epoch 92/100\n",
            "176/176 [==============================] - 85s 484ms/step - loss: 0.7885 - accuracy: 0.7626 - top-5-accuracy: 0.9597 - val_loss: 1.8969 - val_accuracy: 0.5404 - val_top-5-accuracy: 0.8110\n",
            "Epoch 93/100\n",
            "176/176 [==============================] - 85s 483ms/step - loss: 0.7977 - accuracy: 0.7597 - top-5-accuracy: 0.9591 - val_loss: 1.9644 - val_accuracy: 0.5350 - val_top-5-accuracy: 0.8070\n",
            "Epoch 94/100\n",
            "176/176 [==============================] - 86s 491ms/step - loss: 0.7967 - accuracy: 0.7589 - top-5-accuracy: 0.9600 - val_loss: 1.9550 - val_accuracy: 0.5462 - val_top-5-accuracy: 0.8112\n",
            "Epoch 95/100\n",
            "176/176 [==============================] - 85s 484ms/step - loss: 0.7816 - accuracy: 0.7660 - top-5-accuracy: 0.9586 - val_loss: 1.9375 - val_accuracy: 0.5410 - val_top-5-accuracy: 0.8138\n",
            "Epoch 96/100\n",
            "176/176 [==============================] - 86s 490ms/step - loss: 0.7800 - accuracy: 0.7643 - top-5-accuracy: 0.9598 - val_loss: 1.9317 - val_accuracy: 0.5476 - val_top-5-accuracy: 0.8132\n",
            "Epoch 97/100\n",
            "176/176 [==============================] - 85s 484ms/step - loss: 0.7754 - accuracy: 0.7669 - top-5-accuracy: 0.9610 - val_loss: 2.0018 - val_accuracy: 0.5394 - val_top-5-accuracy: 0.8130\n",
            "Epoch 98/100\n",
            "176/176 [==============================] - 86s 489ms/step - loss: 0.7839 - accuracy: 0.7645 - top-5-accuracy: 0.9596 - val_loss: 1.9619 - val_accuracy: 0.5362 - val_top-5-accuracy: 0.8050\n",
            "Epoch 99/100\n",
            "176/176 [==============================] - 85s 481ms/step - loss: 0.7864 - accuracy: 0.7634 - top-5-accuracy: 0.9596 - val_loss: 1.9195 - val_accuracy: 0.5446 - val_top-5-accuracy: 0.8108\n",
            "Epoch 100/100\n",
            "176/176 [==============================] - 86s 490ms/step - loss: 0.7698 - accuracy: 0.7700 - top-5-accuracy: 0.9607 - val_loss: 1.9281 - val_accuracy: 0.5448 - val_top-5-accuracy: 0.8078\n",
            "313/313 [==============================] - 7s 23ms/step - loss: 1.8892 - accuracy: 0.5442 - top-5-accuracy: 0.8128\n",
            "Test accuracy: 54.42%\n",
            "Test top 5 accuracy: 81.28%\n"
          ]
        }
      ],
      "source": [
        "def run_experiment(model):\n",
        "    optimizer = tfa.optimizers.AdamW(\n",
        "        learning_rate=learning_rate, weight_decay=weight_decay\n",
        "    )\n",
        "\n",
        "    model.compile(\n",
        "        optimizer=optimizer,\n",
        "        loss=keras.losses.SparseCategoricalCrossentropy(from_logits=True),\n",
        "        metrics=[\n",
        "            keras.metrics.SparseCategoricalAccuracy(name=\"accuracy\"),\n",
        "            keras.metrics.SparseTopKCategoricalAccuracy(5, name=\"top-5-accuracy\"),\n",
        "        ],\n",
        "    )\n",
        "\n",
        "    checkpoint_filepath = \"/tmp/checkpoint\"\n",
        "    checkpoint_callback = keras.callbacks.ModelCheckpoint(\n",
        "        checkpoint_filepath,\n",
        "        monitor=\"val_accuracy\",\n",
        "        save_best_only=True,\n",
        "        save_weights_only=True,\n",
        "    )\n",
        "\n",
        "    history = model.fit(\n",
        "        x=x_train,\n",
        "        y=y_train,\n",
        "        batch_size=batch_size,\n",
        "        epochs=num_epochs,\n",
        "        validation_split=0.1,\n",
        "        callbacks=[checkpoint_callback],\n",
        "    )\n",
        "\n",
        "    model.load_weights(checkpoint_filepath)\n",
        "    _, accuracy, top_5_accuracy = model.evaluate(x_test, y_test)\n",
        "    print(f\"Test accuracy: {round(accuracy * 100, 2)}%\")\n",
        "    print(f\"Test top 5 accuracy: {round(top_5_accuracy * 100, 2)}%\")\n",
        "\n",
        "    return history\n",
        "\n",
        "\n",
        "vit_classifier = create_vit_classifier()\n",
        "history = run_experiment(vit_classifier)"
      ]
    }
  ],
  "metadata": {
    "accelerator": "GPU",
    "colab": {
      "provenance": []
    },
    "gpuClass": "standard",
    "kernelspec": {
      "display_name": "Python 3",
      "name": "python3"
    },
    "language_info": {
      "name": "python"
    }
  },
  "nbformat": 4,
  "nbformat_minor": 0
}